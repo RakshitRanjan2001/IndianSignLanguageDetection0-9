{
  "cells": [
    {
      "cell_type": "code",
      "source": [
        "import cv2\n",
        "import numpy as np\n",
        "import os\n",
        "import string\n",
        "# Create the directory structure\n",
        "if not os.path.exists(\"datap\"):\n",
        "    os.makedirs(\"datap\")\n",
        "\n",
        "directory = 'datap/'\n",
        "cap = cv2.VideoCapture(0)\n",
        "interrupt = -1  \n",
        "\n",
        "while True:\n",
        "    _, frame = cap.read()\n",
        "    # Simulating mirror image\n",
        "    frame = cv2.flip(frame, 1)\n",
        "    \n",
        "    # Getting count of existing images\n",
        "    count = len(os.listdir(directory))\n",
        "    \n",
        "    # Printing the count in each set to the screen\n",
        "    # cv2.putText(frame, \"MODE : \"+mode, (10, 50), cv2.FONT_HERSHEY_PLAIN, 1, (0,255,255), 1)\n",
        "    # cv2.putText(frame, \"IMAGE COUNT\", (10, ), cv2.FONT_HERSHEY_PLAIN, 1, (0,255,255), 1)\n",
        "    cv2.putText(frame, \"Count : \"+str(count), (10, 70), cv2.FONT_HERSHEY_PLAIN, 1, (0,255,255), 1)\n",
        "\n",
        "    # Coordinates of the ROI\n",
        "    x1 = int(0.5*frame.shape[1])\n",
        "    y1 = 10\n",
        "    x2 = frame.shape[1]-10\n",
        "    y2 = int(0.5*frame.shape[1])\n",
        "    # Drawing the ROI\n",
        "    # The increment/decrement by 1 is to compensate for the bounding box\n",
        "    cv2.rectangle(frame, (220-1, 9), (620+1, 419), (255,0,0) ,1)\n",
        "    # Extracting the ROI\n",
        "    roi = frame[10:410, 220:520]\n",
        "    \n",
        "    cv2.imshow(\"Frame\", frame)\n",
        "    gray = cv2.cvtColor(roi, cv2.COLOR_BGR2GRAY)\n",
        "    \n",
        "    blur = cv2.GaussianBlur(gray,(5,5),2)\n",
        "    \n",
        "    th3 = cv2.adaptiveThreshold(blur,255,cv2.ADAPTIVE_THRESH_GAUSSIAN_C,cv2.THRESH_BINARY_INV,11,2)\n",
        "    ret, test_image = cv2.threshold(th3, minValue, 255, cv2.THRESH_BINARY_INV+cv2.THRESH_OTSU)\n",
        "    \n",
        "    test_image = cv2.resize(test_image, (300,300))\n",
        "    cv2.imshow(\"test\", test_image)\n",
        "        \n",
        "    interrupt = cv2.waitKey(10)\n",
        "    if interrupt & 0xFF == 27: # esc key\n",
        "        break\n",
        "    if interrupt & 0xFF == ord('c'):\n",
        "        cv2.imwrite(directory+str(count)+'.jpg', roi)\n",
        "    \n",
        "cap.release()\n",
        "cv2.destroyAllWindows()"
      ],
      "metadata": {
        "id": "jOcfI57A6cjK"
      },
      "execution_count": null,
      "outputs": []
    },
    {
      "cell_type": "code",
      "source": [
        "import numpy as np\n",
        "import cv2\n",
        "import os\n",
        "import csv\n",
        "from image_processing import func\n",
        "if not os.path.exists(\"datapp\"):\n",
        "    os.makedirs(\"datapp\")\n",
        "pathtest=\"datap\"\n",
        "path1 = \"datapp\"\n",
        "\n",
        "for(direcpath,direcnames,files) in os.walk(pathtest):\n",
        "    for file in files:\n",
        "        actual_path=pathtest+\"/\"+file\n",
        "        actual_path2=path1+\"/\"+file\n",
        "        img = cv2.imread(actual_path, 0)\n",
        "        bw_image = func(actual_path)\n",
        "        cv2.imwrite(actual_path2 , bw_image)"
      ],
      "metadata": {
        "id": "3njoFAVTlSHv"
      },
      "execution_count": null,
      "outputs": []
    },
    {
      "cell_type": "code",
      "execution_count": null,
      "metadata": {
        "id": "feCYQVS_ss-s"
      },
      "outputs": [],
      "source": [
        "import numpy as np\n",
        "import matplotlib.pyplot as plt\n",
        "import pandas as pd\n",
        "import tensorflow as tf"
      ]
    },
    {
      "cell_type": "code",
      "execution_count": null,
      "metadata": {
        "id": "-jyVy-MNx--u"
      },
      "outputs": [],
      "source": [
        "from tensorflow.keras.layers import Input, Lambda, Dense, Flatten,Conv2D,MaxPooling2D,Dropout,BatchNormalization,GlobalMaxPooling2D\n",
        "from tensorflow.keras.models import Model\n",
        "from tensorflow.keras.applications import ResNet152V2 \n",
        "\n",
        "from tensorflow.keras.preprocessing import image\n",
        "from tensorflow.keras.preprocessing.image import ImageDataGenerator,load_img\n",
        "from tensorflow.keras.models import Sequential\n",
        "import tensorflow as tf"
      ]
    },
    {
      "cell_type": "markdown",
      "source": [
        "To Load the model for use"
      ],
      "metadata": {
        "id": "zsCfn-BGGvns"
      }
    },
    {
      "cell_type": "code",
      "execution_count": null,
      "metadata": {
        "id": "M8HCwClaQHLC"
      },
      "outputs": [],
      "source": [
        "bring_model = tf.keras.models.load_model(\"/content/drive/MyDrive/CNN_OG_New_Dataset_7_Epochs_More_Pattern.h5\")"
      ]
    },
    {
      "cell_type": "markdown",
      "source": [
        "For using a folder of images"
      ],
      "metadata": {
        "id": "PtzRrUI60dVX"
      }
    },
    {
      "cell_type": "code",
      "execution_count": null,
      "metadata": {
        "id": "axanU-VLQPV6"
      },
      "outputs": [],
      "source": [
        "import cv2\n",
        "import glob\n",
        "\n",
        "image = [cv2.imread(image) for image in glob.glob(\"/content/drive/MyDrive/datapp/*\")]\n"
      ]
    },
    {
      "cell_type": "code",
      "execution_count": null,
      "metadata": {
        "id": "7eDTL9cXQgpq",
        "colab": {
          "base_uri": "https://localhost:8080/",
          "height": 234
        },
        "outputId": "78db67da-57f0-4d22-991d-0b3c2dd4584b"
      },
      "outputs": [
        {
          "output_type": "error",
          "ename": "TypeError",
          "evalue": "ignored",
          "traceback": [
            "\u001b[0;31m---------------------------------------------------------------------------\u001b[0m",
            "\u001b[0;31mTypeError\u001b[0m                                 Traceback (most recent call last)",
            "\u001b[0;32m<ipython-input-17-83221c730a95>\u001b[0m in \u001b[0;36m<module>\u001b[0;34m()\u001b[0m\n\u001b[1;32m      1\u001b[0m \u001b[0mimages\u001b[0m\u001b[0;34m=\u001b[0m\u001b[0;34m[\u001b[0m\u001b[0;34m]\u001b[0m\u001b[0;34m\u001b[0m\u001b[0;34m\u001b[0m\u001b[0m\n\u001b[0;32m----> 2\u001b[0;31m \u001b[0;32mfor\u001b[0m \u001b[0mi\u001b[0m \u001b[0;32min\u001b[0m \u001b[0mrange\u001b[0m\u001b[0;34m(\u001b[0m\u001b[0mlen\u001b[0m\u001b[0;34m(\u001b[0m\u001b[0mimage\u001b[0m\u001b[0;34m)\u001b[0m\u001b[0;34m)\u001b[0m\u001b[0;34m:\u001b[0m\u001b[0;34m\u001b[0m\u001b[0;34m\u001b[0m\u001b[0m\n\u001b[0m\u001b[1;32m      3\u001b[0m   \u001b[0;31m# kernel = np.array([[-1,-1,-1],\u001b[0m\u001b[0;34m\u001b[0m\u001b[0;34m\u001b[0m\u001b[0;34m\u001b[0m\u001b[0m\n\u001b[1;32m      4\u001b[0m   \u001b[0;31m#                   [-1, 9,-1],\u001b[0m\u001b[0;34m\u001b[0m\u001b[0;34m\u001b[0m\u001b[0;34m\u001b[0m\u001b[0m\n\u001b[1;32m      5\u001b[0m   \u001b[0;31m#                 [-1,-1,-1]])\u001b[0m\u001b[0;34m\u001b[0m\u001b[0;34m\u001b[0m\u001b[0;34m\u001b[0m\u001b[0m\n",
            "\u001b[0;31mTypeError\u001b[0m: object of type 'module' has no len()"
          ]
        }
      ],
      "source": [
        "images=[]\n",
        "for i in range(len(image)):\n",
        "  img2= cv2.cvtColor(image[i], cv2.COLOR_BGR2GRAY)\n",
        "\n",
        "  print(img2.shape)\n",
        "  images.append(img2)"
      ]
    },
    {
      "cell_type": "code",
      "execution_count": null,
      "metadata": {
        "colab": {
          "base_uri": "https://localhost:8080/",
          "height": 286
        },
        "id": "31A0xw_7Rgon",
        "outputId": "5dd736a2-0b19-4731-e579-af200b508395"
      },
      "outputs": [
        {
          "output_type": "execute_result",
          "data": {
            "text/plain": [
              "(400, 300)"
            ]
          },
          "metadata": {},
          "execution_count": 7
        },
        {
          "output_type": "display_data",
          "data": {
            "text/plain": [
              "<Figure size 432x288 with 1 Axes>"
            ],
            "image/png": "[encoded data removed]"
          },
          "metadata": {
            "needs_background": "light"
          }
        }
      ],
      "source": [
        "plt.imshow(images[0],cmap='gray')\n",
        "images[0].shape"
      ]
    },
    {
      "cell_type": "code",
      "execution_count": null,
      "metadata": {
        "id": "OKGKfGtdQqGr"
      },
      "outputs": [],
      "source": [
        "def get_alpha(val):\n",
        "    names = {'0': 0,\n",
        " '1': 1,\n",
        " '2': 2,\n",
        " '3': 3,\n",
        " '4': 4,\n",
        " '5': 5,\n",
        " '6': 6,\n",
        " '7': 7,\n",
        " '8': 8,\n",
        " '9': 9,}\n",
        "    for key, value in names.items(): \n",
        "         if val == value: \n",
        "             return key \n",
        "  \n",
        "    return \"key doesn't exist\""
      ]
    },
    {
      "cell_type": "code",
      "execution_count": null,
      "metadata": {
        "colab": {
          "base_uri": "https://localhost:8080/"
        },
        "id": "HOnifPf7QsWf",
        "outputId": "1f73cc01-d630-4ac2-cf16-b505fefaf90a"
      },
      "outputs": [
        {
          "output_type": "execute_result",
          "data": {
            "text/plain": [
              "(200, 200)"
            ]
          },
          "metadata": {},
          "execution_count": 10
        }
      ],
      "source": [
        "len(images)"
      ]
    },
    {
      "cell_type": "code",
      "execution_count": null,
      "metadata": {
        "colab": {
          "base_uri": "https://localhost:8080/"
        },
        "id": "LlYxBv9kQukf",
        "outputId": "bd34e67b-aebd-44ea-f597-56c71ce657c6"
      },
      "outputs": [
        {
          "output_type": "execute_result",
          "data": {
            "text/plain": [
              "numpy.ndarray"
            ]
          },
          "metadata": {},
          "execution_count": 11
        }
      ],
      "source": [
        "type(images[0])"
      ]
    },
    {
      "cell_type": "code",
      "execution_count": null,
      "metadata": {
        "id": "vqF4SbWKQwtd"
      },
      "outputs": [],
      "source": [
        "for i in range(len(images)):\n",
        "    images[i] = images[i].astype(\"float32\")"
      ]
    },
    {
      "cell_type": "code",
      "execution_count": null,
      "metadata": {
        "id": "I0epg2m-QzTF"
      },
      "outputs": [],
      "source": [
        "for i in range(len(images)):\n",
        "    images[i] = cv2.resize(images[i], (128, 128), interpolation = cv2.INTER_AREA) / 255.0"
      ]
    },
    {
      "cell_type": "code",
      "execution_count": null,
      "metadata": {
        "id": "Cn28tlXOQ1kX"
      },
      "outputs": [],
      "source": [
        "images = np.asarray(images)"
      ]
    },
    {
      "cell_type": "code",
      "execution_count": null,
      "metadata": {
        "id": "9Pi1CPCLRLXM"
      },
      "outputs": [],
      "source": [
        "y_pred = bring_model.predict(images)\n",
        "labels_pred = []\n",
        "for i in range(len(y_pred)):\n",
        "    labels_pred.append( get_alpha(np.argmax(y_pred[i])))"
      ]
    },
    {
      "cell_type": "code",
      "execution_count": null,
      "metadata": {
        "colab": {
          "base_uri": "https://localhost:8080/"
        },
        "id": "Rez_eyVsRQDx",
        "outputId": "6ca15797-fae3-4a6e-a421-77b4c954c90e"
      },
      "outputs": [
        {
          "output_type": "execute_result",
          "data": {
            "text/plain": [
              "['7',\n",
              " '7',\n",
              " '7',\n",
              " '7',\n",
              " '7',\n",
              " '7',\n",
              " '7',\n",
              " '7',\n",
              " '7',\n",
              " '7',\n",
              " '7',\n",
              " '7',\n",
              " '7',\n",
              " '7',\n",
              " '7',\n",
              " '7',\n",
              " '7',\n",
              " '7',\n",
              " '7',\n",
              " '7',\n",
              " '7',\n",
              " '1',\n",
              " '9',\n",
              " '9',\n",
              " '9',\n",
              " '1',\n",
              " '7',\n",
              " '1',\n",
              " '1',\n",
              " '1',\n",
              " '7',\n",
              " '8',\n",
              " '1',\n",
              " '1',\n",
              " '1',\n",
              " '1',\n",
              " '7',\n",
              " '1',\n",
              " '8',\n",
              " '1',\n",
              " '7',\n",
              " '7',\n",
              " '7',\n",
              " '7',\n",
              " '7',\n",
              " '7',\n",
              " '7',\n",
              " '7',\n",
              " '7',\n",
              " '7',\n",
              " '7',\n",
              " '7',\n",
              " '7',\n",
              " '7',\n",
              " '7',\n",
              " '7',\n",
              " '7',\n",
              " '7',\n",
              " '7',\n",
              " '7',\n",
              " '9',\n",
              " '9',\n",
              " '9',\n",
              " '9',\n",
              " '9',\n",
              " '9',\n",
              " '9',\n",
              " '9',\n",
              " '9',\n",
              " '9',\n",
              " '9',\n",
              " '9',\n",
              " '9',\n",
              " '9',\n",
              " '9',\n",
              " '9',\n",
              " '9',\n",
              " '9',\n",
              " '9',\n",
              " '9',\n",
              " '4',\n",
              " '7',\n",
              " '4',\n",
              " '7',\n",
              " '4',\n",
              " '4',\n",
              " '4',\n",
              " '4',\n",
              " '4',\n",
              " '4',\n",
              " '4',\n",
              " '4',\n",
              " '4',\n",
              " '4',\n",
              " '7',\n",
              " '7',\n",
              " '4',\n",
              " '4',\n",
              " '4',\n",
              " '4',\n",
              " '4',\n",
              " '4',\n",
              " '4',\n",
              " '4',\n",
              " '4',\n",
              " '4',\n",
              " '4',\n",
              " '4',\n",
              " '4',\n",
              " '4',\n",
              " '4',\n",
              " '4',\n",
              " '4',\n",
              " '4',\n",
              " '4',\n",
              " '4',\n",
              " '4',\n",
              " '4',\n",
              " '4',\n",
              " '4',\n",
              " '1',\n",
              " '1',\n",
              " '1',\n",
              " '1',\n",
              " '1',\n",
              " '1',\n",
              " '1',\n",
              " '1',\n",
              " '1',\n",
              " '1',\n",
              " '1',\n",
              " '1',\n",
              " '1',\n",
              " '1',\n",
              " '1',\n",
              " '1',\n",
              " '1',\n",
              " '1',\n",
              " '1',\n",
              " '1',\n",
              " '6',\n",
              " '6',\n",
              " '6',\n",
              " '6',\n",
              " '6',\n",
              " '6',\n",
              " '6',\n",
              " '6',\n",
              " '6',\n",
              " '6',\n",
              " '6',\n",
              " '6',\n",
              " '6',\n",
              " '6',\n",
              " '6',\n",
              " '6',\n",
              " '6',\n",
              " '6',\n",
              " '6',\n",
              " '6',\n",
              " '8',\n",
              " '8',\n",
              " '8',\n",
              " '8',\n",
              " '8',\n",
              " '8',\n",
              " '8',\n",
              " '8',\n",
              " '8',\n",
              " '8',\n",
              " '8',\n",
              " '8',\n",
              " '8',\n",
              " '8',\n",
              " '8',\n",
              " '8',\n",
              " '8',\n",
              " '8',\n",
              " '8',\n",
              " '8',\n",
              " '7',\n",
              " '7',\n",
              " '7',\n",
              " '5',\n",
              " '7',\n",
              " '5',\n",
              " '7',\n",
              " '5',\n",
              " '7',\n",
              " '5',\n",
              " '5',\n",
              " '5',\n",
              " '5',\n",
              " '7',\n",
              " '7',\n",
              " '5',\n",
              " '7',\n",
              " '7',\n",
              " '5',\n",
              " '7']"
            ]
          },
          "metadata": {},
          "execution_count": 46
        }
      ],
      "source": [
        "labels_pred"
      ]
    }
  ],
  "metadata": {
    "accelerator": "TPU",
    "colab": {
      "collapsed_sections": [],
      "name": "Predicting.ipynb",
      "provenance": []
    },
    "kernelspec": {
      "display_name": "Python 3",
      "name": "python3"
    },
    "language_info": {
      "name": "python"
    }
  },
  "nbformat": 4,
  "nbformat_minor": 0
}