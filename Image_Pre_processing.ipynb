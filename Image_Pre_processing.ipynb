{
  "nbformat": 4,
  "nbformat_minor": 0,
  "metadata": {
    "colab": {
      "name": "Image_Pre-processing.ipynb",
      "provenance": [],
      "collapsed_sections": []
    },
    "kernelspec": {
      "name": "python3",
      "display_name": "Python 3"
    },
    "language_info": {
      "name": "python"
    }
  },
  "cells": [
    {
      "cell_type": "markdown",
      "source": [
        "For preprocessing of the image"
      ],
      "metadata": {
        "id": "Xp07k1AbiLNW"
      }
    },
    {
      "cell_type": "code",
      "source": [
        "import numpy as np\n",
        "import cv2\n",
        "import os\n",
        "import csv\n",
        "from image_processing import func\n",
        "if not os.path.exists(\"data2\"):\n",
        "    os.makedirs(\"data2\")\n",
        "if not os.path.exists(\"data2/train\"):\n",
        "    os.makedirs(\"data2/train\")\n",
        "if not os.path.exists(\"data2/test\"):\n",
        "    os.makedirs(\"data2/test\")\n",
        "pathtrain=\"train\"\n",
        "pathtest=\"test\"\n",
        "path1 = \"data2\"\n",
        "\n",
        "for(direcpath,direcnames,files) in os.walk(pathtrain+\"/\"+dirname):\n",
        "    if not os.path.exists(path1+\"/train/\"+dirname):\n",
        "        os.makedirs(path1+\"/train/\"+dirname)\n",
        "    if not os.path.exists(path1+\"/test/\"+dirname):\n",
        "        os.makedirs(path1+\"/test/\"+dirname)\n",
        "\n",
        "for (dirpath,dirnames,filenames) in os.walk(pathtrain):\n",
        "    for dirname in dirnames:\n",
        "        for(direcpath,direcnames,files) in os.walk(pathtrain+\"/\"+dirname):\n",
        "            for file in files:\n",
        "                var+=1\n",
        "                actual_path=path+\"/\"+dirname+\"/\"+file\n",
        "                actual_path1=path1+\"/\"+\"train/\"+dirname+\"/\"+file\n",
        "                img = cv2.imread(actual_path, 0)\n",
        "                bw_image = func(actual_path)\n",
        "                cv2.imwrite(actual_path1 , bw_image)\n",
        "\n",
        "for (dirpath,dirnames,filenames) in os.walk(pathtest):\n",
        "    for dirname in dirnames:\n",
        "        for(direcpath,direcnames,files) in os.walk(pathtest+\"/\"+dirname):\n",
        "            for file in files:\n",
        "                var+=1\n",
        "                actual_path=pathtest+\"/\"+dirname+\"/\"+file\n",
        "                actual_path2=path1+\"/\"+\"test/\"+dirname+\"/\"+file\n",
        "                img = cv2.imread(actual_path, 0)\n",
        "                bw_image = func(actual_path)\n",
        "                cv2.imwrite(actual_path2 , bw_image)"
      ],
      "metadata": {
        "id": "2hISeVb6hj3R"
      },
      "execution_count": null,
      "outputs": []
    }
  ]
}
