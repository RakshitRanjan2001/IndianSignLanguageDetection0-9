{
  "nbformat": 4,
  "nbformat_minor": 0,
  "metadata": {
    "colab": {
      "name": "Image_Pre-processing.ipynb",
      "provenance": [],
      "collapsed_sections": []
    },
    "kernelspec": {
      "name": "python3",
      "display_name": "Python 3"
    },
    "language_info": {
      "name": "python"
    }
  },
  "cells": [
    {
      "cell_type": "markdown",
      "source": [
        "For preprocessing of the image"
      ],
      "metadata": {
        "id": "Xp07k1AbiLNW"
      }
    },
    {
      "cell_type": "code",
      "source": [
        "import numpy as np\n",
        "import cv2\n",
        "import os\n",
        "import csv\n",
        "from image_processing import func\n",
        "if not os.path.exists(\"data2\"):\n",
        "    os.makedirs(\"data2\")\n",
        "if not os.path.exists(\"data2/train\"):\n",
        "    os.makedirs(\"data2/train\")\n",
        "if not os.path.exists(\"data2/test\"):\n",
        "    os.makedirs(\"data2/test\")\n",
        "path=\"train\"\n",
        "path1 = \"data2\"\n",
        "a=['label']\n",
        "\n",
        "for i in range(64*64):\n",
        "    a.append(\"pixel\"+str(i))\n",
        "    \n",
        "\n",
        "#outputLine = a.tolist()\n",
        "\n",
        "\n",
        "label=0\n",
        "var = 0\n",
        "c1 = 0\n",
        "c2 = 0\n",
        "\n",
        "for (dirpath,dirnames,filenames) in os.walk(path):\n",
        "    for dirname in dirnames:\n",
        "        print(dirname)\n",
        "        for(direcpath,direcnames,files) in os.walk(path+\"/\"+dirname):\n",
        "       \t    if not os.path.exists(path1+\"/train/\"+dirname):\n",
        "                os.makedirs(path1+\"/train/\"+dirname)\n",
        "            if not os.path.exists(path1+\"/test/\"+dirname):\n",
        "                os.makedirs(path1+\"/test/\"+dirname)\n",
        "            # num=0.75*len(files)\n",
        "            num = 100000000000000000\n",
        "            i=0\n",
        "            for file in files:\n",
        "                var+=1\n",
        "                actual_path=path+\"/\"+dirname+\"/\"+file\n",
        "                actual_path1=path1+\"/\"+\"train/\"+dirname+\"/\"+file\n",
        "                actual_path2=path1+\"/\"+\"test/\"+dirname+\"/\"+file\n",
        "                img = cv2.imread(actual_path, 0)\n",
        "                bw_image = func(actual_path)\n",
        "                if i<num:\n",
        "                    c1 += 1\n",
        "                    cv2.imwrite(actual_path1 , bw_image)\n",
        "                else:\n",
        "                    c2 += 1\n",
        "                    cv2.imwrite(actual_path2 , bw_image)\n",
        "                    \n",
        "                i=i+1\n",
        "                \n",
        "        label=label+1\n",
        "print(var)\n",
        "print(c1)\n",
        "print(c2)"
      ],
      "metadata": {
        "id": "2hISeVb6hj3R"
      },
      "execution_count": null,
      "outputs": []
    }
  ]
}